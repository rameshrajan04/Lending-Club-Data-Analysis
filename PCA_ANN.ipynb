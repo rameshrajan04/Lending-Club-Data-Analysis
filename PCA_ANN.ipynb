{
 "cells": [
  {
   "cell_type": "code",
   "execution_count": 25,
   "metadata": {
    "collapsed": false
   },
   "outputs": [
    {
     "name": "stdout",
     "output_type": "stream",
     "text": [
      "(171483, 115)\n"
     ]
    }
   ],
   "source": [
    "import pandas as pd\n",
    "pd.options.mode.chained_assignment = None\n",
    "\n",
    "# Because the dataset is pretty big, you can specify low_memory = False to make sure that you get the variable types correct on your rows\n",
    "# The dataset has a additional column at the top that you can skip using the skiprows argument\n",
    "raw_data = pd.read_csv(\"LendingClub2012to2013.csv\", low_memory = False, skiprows=[0])\n",
    "\n",
    "# Let's eliminate the rows that aren't \"complete\"\n",
    "# There's a decision to make here... technically, any defaulted loan could pay off.\n",
    "# So we will drop the current loans and the ones that are a few months late and leave behind the defaults and the paid off loans\n",
    "no_incomplete_rows = raw_data[raw_data['loan_status'].isin(['Fully Paid', 'Charged Off', 'Default'])]\n",
    "no_incomplete_rows['loan_status'] = no_incomplete_rows['loan_status'].apply(lambda x: 0 if x == \"Fully Paid\" else 1)\n",
    "print(no_incomplete_rows.shape)\n",
    "\n",
    "# notice we only lose about 16,000 loans.  why might this be?\n",
    "# maximum term length for loans on lending club is 60 months\n"
   ]
  },
  {
   "cell_type": "code",
   "execution_count": 26,
   "metadata": {
    "collapsed": false
   },
   "outputs": [],
   "source": [
    "# now it's time to clear up the leakage and other stuff\n",
    "leakage_to_drop = ['recoveries', 'collection_recovery_fee', 'last_fico_range_high', 'last_fico_range_low', 'last_credit_pull_d', 'total_rec_prncp', 'last_pymnt_amnt', 'total_pymnt', 'total_pymnt_inv', 'last_pymnt_d', 'total_rec_late_fee', 'total_rec_int', 'num_tl_120dpd_2m', 'num_tl_30dpd', 'out_prncp', 'out_prncp_inv', 'next_pymnt_d']\n",
    "no_information_features_to_drop = ['all_util', 'dti_joint', 'il_util', 'inq_fi', 'inq_last_12m', 'max_bal_bc', 'mths_since_rcnt_il', 'open_acc_6m', 'open_il_12m', 'open_il_24m', 'open_il_6m', 'open_rv_12m', 'open_rv_24m', 'total_bal_il', 'verification_status_joint', 'annual_inc_joint', 'application_type',  'policy_code', 'total_cu_tl']\n",
    "text_columns = ['emp_title', 'url', 'desc', 'purpose', 'title', 'zip_code', 'id']\n",
    "\n",
    "\n",
    "no_leakage = no_incomplete_rows.drop(text_columns + leakage_to_drop + no_information_features_to_drop, axis = 1)\n",
    "\n",
    "no_leakage['earliest_cr_line'] = pd.to_datetime(no_leakage['earliest_cr_line'], format='%b-%Y')\n",
    "no_leakage['time_since_earliest_cr_line'] = no_leakage['earliest_cr_line'].apply(lambda x: pd.to_datetime('20000101', format='%Y%m%d') - x).dt.days\n",
    "\n",
    "# and it looks like there's a pesky % symbol in my interest rate variable\n",
    "no_leakage['int_rate'] = pd.to_numeric(no_leakage['int_rate'].str.strip('%'), errors='coerce')\n",
    "no_leakage['revol_util'] = pd.to_numeric(no_leakage['revol_util'].str.strip('%'), errors='coerce')\n",
    "\n",
    "no_leakage['term'] = no_leakage['term'].apply(lambda x: x.strip().replace(\" \", \"_\"))\n",
    "\n",
    "no_leakage = no_leakage.drop(['earliest_cr_line'], axis = 1)"
   ]
  },
  {
   "cell_type": "code",
   "execution_count": 27,
   "metadata": {
    "collapsed": false,
    "scrolled": true
   },
   "outputs": [
    {
     "name": "stdout",
     "output_type": "stream",
     "text": [
      "['term' 'grade' 'sub_grade' 'emp_length' 'home_ownership'\n",
      " 'verification_status' 'issue_d' 'pymnt_plan' 'addr_state'\n",
      " 'initial_list_status']\n"
     ]
    }
   ],
   "source": [
    "from sklearn import preprocessing\n",
    "\n",
    "categorical = no_leakage.select_dtypes(include=['object'])\n",
    "numeric = no_leakage.select_dtypes(exclude=['object'])\n",
    "\n",
    "print(categorical.columns.values)"
   ]
  },
  {
   "cell_type": "code",
   "execution_count": 28,
   "metadata": {
    "collapsed": false,
    "scrolled": false
   },
   "outputs": [
    {
     "name": "stdout",
     "output_type": "stream",
     "text": [
      "term\n",
      "grade\n",
      "sub_grade\n",
      "emp_length\n",
      "home_ownership\n",
      "verification_status\n",
      "issue_d\n",
      "pymnt_plan\n",
      "addr_state\n",
      "initial_list_status\n"
     ]
    }
   ],
   "source": [
    "# create dummy variables\n",
    "for name, values in categorical.items():\n",
    "    print(name)\n",
    "    dummies = pd.get_dummies(values.str.strip(), prefix = name, dummy_na=True)\n",
    "    numeric = pd.concat([numeric, dummies], axis=1)"
   ]
  },
  {
   "cell_type": "code",
   "execution_count": 29,
   "metadata": {
    "collapsed": false
   },
   "outputs": [
    {
     "name": "stdout",
     "output_type": "stream",
     "text": [
      "member_id\n",
      "loan_amnt\n",
      "funded_amnt\n",
      "funded_amnt_inv\n",
      "int_rate\n",
      "installment\n",
      "annual_inc\n",
      "loan_status\n",
      "dti\n",
      "delinq_2yrs\n",
      "fico_range_low\n",
      "fico_range_high\n",
      "inq_last_6mths\n",
      "mths_since_last_delinq\n",
      "mths_since_last_record\n",
      "open_acc\n",
      "pub_rec\n",
      "revol_bal\n",
      "revol_util\n",
      "total_acc\n",
      "collections_12_mths_ex_med\n",
      "mths_since_last_major_derog\n",
      "acc_now_delinq\n",
      "tot_coll_amt\n",
      "tot_cur_bal\n",
      "total_rev_hi_lim\n",
      "acc_open_past_24mths\n",
      "avg_cur_bal\n",
      "bc_open_to_buy\n",
      "bc_util\n",
      "chargeoff_within_12_mths\n",
      "delinq_amnt\n",
      "mo_sin_old_il_acct\n",
      "mo_sin_old_rev_tl_op\n",
      "mo_sin_rcnt_rev_tl_op\n",
      "mo_sin_rcnt_tl\n",
      "mort_acc\n",
      "mths_since_recent_bc\n",
      "mths_since_recent_bc_dlq\n",
      "mths_since_recent_inq\n",
      "mths_since_recent_revol_delinq\n",
      "num_accts_ever_120_pd\n",
      "num_actv_bc_tl\n",
      "num_actv_rev_tl\n",
      "num_bc_sats\n",
      "num_bc_tl\n",
      "num_il_tl\n",
      "num_op_rev_tl\n",
      "num_rev_accts\n",
      "num_rev_tl_bal_gt_0\n",
      "num_sats\n",
      "num_tl_90g_dpd_24m\n",
      "num_tl_op_past_12m\n",
      "pct_tl_nvr_dlq\n",
      "percent_bc_gt_75\n",
      "pub_rec_bankruptcies\n",
      "tax_liens\n",
      "tot_hi_cred_lim\n",
      "total_bal_ex_mort\n",
      "total_bc_limit\n",
      "total_il_high_credit_limit\n",
      "time_since_earliest_cr_line\n",
      "term_36_months\n",
      "term_60_months\n",
      "term_nan\n",
      "grade_A\n",
      "grade_B\n",
      "grade_C\n",
      "grade_D\n",
      "grade_E\n",
      "grade_F\n",
      "grade_G\n",
      "grade_nan\n",
      "sub_grade_A1\n",
      "sub_grade_A2\n",
      "sub_grade_A3\n",
      "sub_grade_A4\n",
      "sub_grade_A5\n",
      "sub_grade_B1\n",
      "sub_grade_B2\n",
      "sub_grade_B3\n",
      "sub_grade_B4\n",
      "sub_grade_B5\n",
      "sub_grade_C1\n",
      "sub_grade_C2\n",
      "sub_grade_C3\n",
      "sub_grade_C4\n",
      "sub_grade_C5\n",
      "sub_grade_D1\n",
      "sub_grade_D2\n",
      "sub_grade_D3\n",
      "sub_grade_D4\n",
      "sub_grade_D5\n",
      "sub_grade_E1\n",
      "sub_grade_E2\n",
      "sub_grade_E3\n",
      "sub_grade_E4\n",
      "sub_grade_E5\n",
      "sub_grade_F1\n",
      "sub_grade_F2\n",
      "sub_grade_F3\n",
      "sub_grade_F4\n",
      "sub_grade_F5\n",
      "sub_grade_G1\n",
      "sub_grade_G2\n",
      "sub_grade_G3\n",
      "sub_grade_G4\n",
      "sub_grade_G5\n",
      "sub_grade_nan\n",
      "emp_length_1 year\n",
      "emp_length_10+ years\n",
      "emp_length_2 years\n",
      "emp_length_3 years\n",
      "emp_length_4 years\n",
      "emp_length_5 years\n",
      "emp_length_6 years\n",
      "emp_length_7 years\n",
      "emp_length_8 years\n",
      "emp_length_9 years\n",
      "emp_length_< 1 year\n",
      "emp_length_n/a\n",
      "emp_length_nan\n",
      "home_ownership_MORTGAGE\n",
      "home_ownership_NONE\n",
      "home_ownership_OTHER\n",
      "home_ownership_OWN\n",
      "home_ownership_RENT\n",
      "home_ownership_nan\n",
      "verification_status_Not Verified\n",
      "verification_status_Source Verified\n",
      "verification_status_Verified\n",
      "verification_status_nan\n",
      "issue_d_Apr-2012\n",
      "issue_d_Apr-2013\n",
      "issue_d_Aug-2012\n",
      "issue_d_Aug-2013\n",
      "issue_d_Dec-2012\n",
      "issue_d_Dec-2013\n",
      "issue_d_Feb-2012\n",
      "issue_d_Feb-2013\n",
      "issue_d_Jan-2012\n",
      "issue_d_Jan-2013\n",
      "issue_d_Jul-2012\n",
      "issue_d_Jul-2013\n",
      "issue_d_Jun-2012\n",
      "issue_d_Jun-2013\n",
      "issue_d_Mar-2012\n",
      "issue_d_Mar-2013\n",
      "issue_d_May-2012\n",
      "issue_d_May-2013\n",
      "issue_d_Nov-2012\n",
      "issue_d_Nov-2013\n",
      "issue_d_Oct-2012\n",
      "issue_d_Oct-2013\n",
      "issue_d_Sep-2012\n",
      "issue_d_Sep-2013\n",
      "issue_d_nan\n",
      "pymnt_plan_n\n",
      "pymnt_plan_nan\n",
      "addr_state_AK\n",
      "addr_state_AL\n",
      "addr_state_AR\n",
      "addr_state_AZ\n",
      "addr_state_CA\n",
      "addr_state_CO\n",
      "addr_state_CT\n",
      "addr_state_DC\n",
      "addr_state_DE\n",
      "addr_state_FL\n",
      "addr_state_GA\n",
      "addr_state_HI\n",
      "addr_state_IA\n",
      "addr_state_ID\n",
      "addr_state_IL\n",
      "addr_state_IN\n",
      "addr_state_KS\n",
      "addr_state_KY\n",
      "addr_state_LA\n",
      "addr_state_MA\n",
      "addr_state_MD\n",
      "addr_state_MI\n",
      "addr_state_MN\n",
      "addr_state_MO\n",
      "addr_state_MS\n",
      "addr_state_MT\n",
      "addr_state_NC\n",
      "addr_state_NE\n",
      "addr_state_NH\n",
      "addr_state_NJ\n",
      "addr_state_NM\n",
      "addr_state_NV\n",
      "addr_state_NY\n",
      "addr_state_OH\n",
      "addr_state_OK\n",
      "addr_state_OR\n",
      "addr_state_PA\n",
      "addr_state_RI\n",
      "addr_state_SC\n",
      "addr_state_SD\n",
      "addr_state_TN\n",
      "addr_state_TX\n",
      "addr_state_UT\n",
      "addr_state_VA\n",
      "addr_state_VT\n",
      "addr_state_WA\n",
      "addr_state_WI\n",
      "addr_state_WV\n",
      "addr_state_WY\n",
      "addr_state_nan\n",
      "initial_list_status_f\n",
      "initial_list_status_w\n",
      "initial_list_status_nan\n"
     ]
    }
   ],
   "source": [
    "# imputation\n",
    "for name in numeric:\n",
    "    print(name)\n",
    "    if pd.isnull(numeric[name]).sum() > 0:\n",
    "        numeric[\"%s_mi\" % (name)] = pd.isnull(numeric[name])\n",
    "        median = numeric[name].median()\n",
    "        numeric[name] = numeric[name].apply(lambda x: median if pd.isnull(x) else x)\n",
    "        \n",
    "y = numeric['loan_status']\n",
    "X = numeric.drop(['loan_status'], axis = 1)"
   ]
  },
  {
   "cell_type": "code",
   "execution_count": 30,
   "metadata": {
    "collapsed": false
   },
   "outputs": [
    {
     "name": "stdout",
     "output_type": "stream",
     "text": [
      "Creating dummies for term\n",
      "creating dummies for grade\n",
      "Cleaning up emp_years\n",
      "Modifying issue_year\n",
      "Dropping issue_d\n",
      "Creating dummies for pymnt_plan\n",
      "creating dummies for addr_state\n",
      "Dropping null mths_since_last_delinq\n",
      "Dropping null mths_since_last_record\n",
      "cleaning up initial_list_status\n",
      "Dropping nulls from mths_since_last_major_derog\n",
      "Dropping nulls from collections_12_mths_ex_med\n"
     ]
    }
   ],
   "source": [
    "import numpy as np\n",
    "import pickle\n",
    "loanData = no_leakage\n",
    "\n",
    "##term\n",
    "print (\"Creating dummies for term\")\n",
    "loanData['term'] = [0 if x == \" 36 months\" else 1 for x in loanData['term']]\n",
    "\n",
    "##grade\n",
    "print (\"creating dummies for grade\")\n",
    "loanData = loanData[pd.isnull(loanData['grade']) == 0]\n",
    "loanData.index = range(len(loanData))\n",
    "gradesdummy = pd.get_dummies(loanData['grade'])\n",
    "loanData = pd.concat([loanData, gradesdummy], axis=1)\n",
    "loanData = loanData.drop(['grade'], 1)\n",
    "loanData = loanData.drop(['sub_grade'], 1)\n",
    "\n",
    "#Verification Status\n",
    "VerStatusdummy = pd.get_dummies(loanData['verification_status'])\n",
    "loanData = pd.concat([loanData, VerStatusdummy], axis=1)\n",
    "loanData = loanData.drop(['verification_status'], 1)\n",
    "\n",
    "##emp_length\n",
    "print (\"Cleaning up emp_years\")\n",
    "emp_years = dict(zip(loanData['emp_length'].unique(), np.arange(loanData['emp_length'].nunique())))\n",
    "loanData['emp_length'] = loanData['emp_length'].map(lambda x: emp_years[x])\n",
    "\n",
    "homeOwnershipdummy = pd.get_dummies(loanData['home_ownership'])\n",
    "loanData = pd.concat([loanData, homeOwnershipdummy], axis=1)\n",
    "loanData = loanData.drop(['home_ownership'], 1)\n",
    "\n",
    "##issue_month and issue_year\n",
    "loanData['issue_month'] = 0\n",
    "loanData['issue_year'] = 0\n",
    "\n",
    "#issue_month\n",
    "loanData['issue_month'] = [pd.to_datetime(x).month for x in loanData['issue_d']]\n",
    "print (\"Modifying issue_year\")\n",
    "loanData['issue_year'] = [pd.to_datetime(x).year for x in loanData['issue_d']]\n",
    "print (\"Dropping issue_d\")\n",
    "loanData = loanData.drop('issue_d', 1)\n",
    "\n",
    "##pymnt_plan\n",
    "print (\"Creating dummies for pymnt_plan\")\n",
    "loanData['pymnt_plan'] = [1 if x == 'y' else 0 for x in loanData['pymnt_plan']]\n",
    "loanData=loanData.drop('pymnt_plan', 1)\n",
    "\n",
    "#addr_state\n",
    "print (\"creating dummies for addr_state\")\n",
    "statesdummy = pd.get_dummies(loanData['addr_state'])\n",
    "loanData = pd.concat([loanData, statesdummy], axis=1)\n",
    "loanData = loanData.drop('addr_state', 1)\n",
    "\n",
    "##delinquencies\n",
    "print (\"Dropping null mths_since_last_delinq\")\n",
    "loanData['mths_since_last_delinq'] = [-1 if pd.isnull(x) else x for x in loanData['mths_since_last_delinq']]\n",
    "\n",
    "##records\n",
    "print (\"Dropping null mths_since_last_record\")\n",
    "loanData['mths_since_last_record'] = [-1 if pd.isnull(x) else x for x in loanData['mths_since_last_record']]\n",
    "\n",
    "##revol_util\n",
    "loanData['revol_util'] = [-1 if pd.isnull(x) else x for x in loanData['revol_util']]\n",
    "\n",
    "##initial_list_status\n",
    "print (\"cleaning up initial_list_status\")\n",
    "loanData['initial_list_status'] = [1 if x in ['w', 'W'] else 0 for x in loanData['initial_list_status']]\n",
    "\n",
    "##major_derog\n",
    "print (\"Dropping nulls from mths_since_last_major_derog\")\n",
    "loanData['mths_since_last_major_derog'] = [-1 if pd.isnull(x) else x for x in loanData['mths_since_last_major_derog']]\n",
    "\n",
    "##collections_12_mths_ex_med\n",
    "print (\"Dropping nulls from collections_12_mths_ex_med\")\n",
    "loanData['collections_12_mths_ex_med'] = [-1 if pd.isnull(x) else x for x in loanData['collections_12_mths_ex_med']]\n",
    "\n",
    "##Remove features which aren't available for new loan listings\n",
    "\n",
    "loanData = loanData.drop('initial_list_status', 1)\n",
    "\n",
    "\n",
    "\n",
    "##Drop loans with missing values\n",
    "loanData = loanData.dropna()\n",
    "loanData.index = range(len(loanData))\n",
    "\n",
    "loanData.to_csv(\"clean_LendingClub.csv\")"
   ]
  },
  {
   "cell_type": "code",
   "execution_count": 31,
   "metadata": {
    "collapsed": false
   },
   "outputs": [],
   "source": [
    "import numpy as np\n",
    "from sklearn.decomposition import PCA\n",
    "import pandas as pd\n",
    "import matplotlib.pyplot as plt\n",
    "from sklearn.preprocessing import scale\n",
    "%matplotlib inline\n",
    "\n",
    "clean_data = pd.read_csv(\"clean_LendingClub.csv\", low_memory = False, skiprows=[1])\n",
    "#clean_data = loanData\n",
    "y = clean_data['loan_status']\n",
    "X = clean_data.drop(['loan_status'], axis = 1)\n",
    "\n",
    "\n",
    "\n"
   ]
  },
  {
   "cell_type": "code",
   "execution_count": 32,
   "metadata": {
    "collapsed": true
   },
   "outputs": [],
   "source": [
    "# create a holdout\n",
    "import numpy as np\n",
    "from sklearn.model_selection import train_test_split\n",
    "X_train, X_test, y_train, y_test = train_test_split(X, y, test_size=0.2, random_state=1234)"
   ]
  },
  {
   "cell_type": "code",
   "execution_count": 33,
   "metadata": {
    "collapsed": false
   },
   "outputs": [
    {
     "name": "stdout",
     "output_type": "stream",
     "text": [
      "[  7.42  12.13  16.01  18.92  21.79  24.23  26.66  28.7   30.54  32.26\n",
      "  33.7   35.09  36.37  37.54  38.66  39.76  40.81  41.82  42.82  43.77\n",
      "  44.71  45.63  46.54  47.43  48.31  49.18  50.04  50.9   51.75  52.59\n",
      "  53.43  54.26  55.09  55.92  56.74  57.56  58.38  59.2   60.01  60.82\n",
      "  61.63  62.44  63.25  64.06  64.87  65.68  66.49  67.29  68.09  68.89\n",
      "  69.69  70.49  71.29  72.09  72.89  73.69  74.49  75.29  76.09  76.89\n",
      "  77.68  78.47  79.26  80.05  80.84  81.63  82.41  83.19  83.96  84.73\n",
      "  85.49  86.25  87.01  87.75  88.49  89.21  89.93  90.62  91.29  91.93]\n",
      "[[ 1.1816751  -1.08596238 -0.12434103 ..., -0.72322241 -1.04989882\n",
      "   0.55273432]\n",
      " [-2.43071896 -2.88059479 -1.2443204  ..., -0.13210208  0.75662175\n",
      "  -0.87322032]\n",
      " [-3.32127717  1.7841403   0.21313793 ..., -0.32427987 -1.35083379\n",
      "  -0.2137421 ]\n",
      " ..., \n",
      " [ 1.17758975  2.26609095  2.05924152 ..., -1.03312724 -0.99199119\n",
      "   0.61064264]\n",
      " [-3.7419734  -1.90775334 -1.08681634 ..., -0.59094058 -1.48024641\n",
      "  -0.73316533]\n",
      " [ 0.13040723 -0.10269989 -1.80182614 ...,  0.61524971  1.13767315\n",
      "  -0.4039564 ]]\n"
     ]
    },
    {
     "data": {
      "image/png": "[encoded data removed]",
      "text/plain": [
       "<matplotlib.figure.Figure at 0x26af1d3cf28>"
      ]
     },
     "metadata": {},
     "output_type": "display_data"
    }
   ],
   "source": [
    "# Prinipal Component Analysis\n",
    "\n",
    "\n",
    "k_train= X_train.values\n",
    "k_test = X_test.values\n",
    "\n",
    "#Scaling the values\n",
    "k_train = scale(k_train)\n",
    "k_test = scale(k_test)\n",
    "\n",
    "pca = PCA(n_components=80)\n",
    "\n",
    "# Fitting pca on X_train\n",
    "pca.fit(k_train)\n",
    "\n",
    "#Amount of variance explained by each PC\n",
    "var= pca.explained_variance_ratio_\n",
    "\n",
    "#Cumulative variance\n",
    "var1=np.cumsum(np.round(pca.explained_variance_ratio_, decimals=4)*100)\n",
    "\n",
    "# Printing individual component variances and plotting them\n",
    "print(var1)\n",
    "plt.plot(var1)\n",
    "plt.xlabel(\"principal components\")\n",
    "plt.ylabel(\"explained variance\")\n",
    "\n",
    "#Looking at above plot I'm taking 80 variables\n",
    "pca = PCA(n_components=80)\n",
    "pca.fit(k_train)\n",
    "\n",
    "# Trasforming X_train and X_test\n",
    "X_t_train=pca.fit_transform(k_train)\n",
    "X_t_test = pca.fit_transform(k_test)\n",
    "\n",
    "print(X_t_train)\n"
   ]
  },
  {
   "cell_type": "code",
   "execution_count": 34,
   "metadata": {
    "collapsed": false
   },
   "outputs": [
    {
     "name": "stdout",
     "output_type": "stream",
     "text": [
      "Epoch 1/10\n",
      "23319/23319 [==============================] - 1s - loss: 2.7819 - acc: 0.5308     \n",
      "Epoch 2/10\n",
      "23319/23319 [==============================] - 1s - loss: 0.9865 - acc: 0.8307     \n",
      "Epoch 3/10\n",
      "23319/23319 [==============================] - 1s - loss: 0.7632 - acc: 0.8343     \n",
      "Epoch 4/10\n",
      "23319/23319 [==============================] - 1s - loss: 0.6708 - acc: 0.8351     \n",
      "Epoch 5/10\n",
      "23319/23319 [==============================] - 1s - loss: 0.6080 - acc: 0.8373     \n",
      "Epoch 6/10\n",
      "23319/23319 [==============================] - 1s - loss: 0.5610 - acc: 0.8371     \n",
      "Epoch 7/10\n",
      "23319/23319 [==============================] - 1s - loss: 0.5260 - acc: 0.8372     \n",
      "Epoch 8/10\n",
      "23319/23319 [==============================] - 1s - loss: 0.5009 - acc: 0.8376     \n",
      "Epoch 9/10\n",
      "23319/23319 [==============================] - 1s - loss: 0.4834 - acc: 0.8376     \n",
      "Epoch 10/10\n",
      "23319/23319 [==============================] - 1s - loss: 0.4708 - acc: 0.8384     \n",
      "22528/23319 [===========================>..] - ETA: 0s\n",
      "acc: 83.73%\n",
      "One layer NN trained\n"
     ]
    }
   ],
   "source": [
    "## one layer ANN WITHOUT PCA on train set(without transformation)\n",
    "\n",
    "from time import time\n",
    "from keras.models import Sequential\n",
    "from keras.layers import Dense, Activation\n",
    "\n",
    "np.random.seed(1337)\n",
    "\n",
    "start = time()\n",
    "\n",
    "model = Sequential()\n",
    "model.add(Dense(100, input_dim=130))\n",
    "model.add(Activation(\"softmax\"))\n",
    "\n",
    "model.compile(loss='sparse_categorical_crossentropy', optimizer='sgd', metrics=['accuracy'])\n",
    "\n",
    "model.fit(k_train, y_train, epochs=10)\n",
    "\n",
    "scores = model.evaluate(k_train, y_train)\n",
    "print(\"\\n%s: %.2f%%\" % (model.metrics_names[1], scores[1]*100))\n",
    "print(\"One layer NN trained\")"
   ]
  },
  {
   "cell_type": "code",
   "execution_count": 35,
   "metadata": {
    "collapsed": false,
    "scrolled": true
   },
   "outputs": [
    {
     "name": "stdout",
     "output_type": "stream",
     "text": [
      "Epoch 1/10\n",
      "23319/23319 [==============================] - 1s - loss: 2.1378 - acc: 0.5263     \n",
      "Epoch 2/10\n",
      "23319/23319 [==============================] - 0s - loss: 0.8091 - acc: 0.8316     \n",
      "Epoch 3/10\n",
      "23319/23319 [==============================] - 1s - loss: 0.6570 - acc: 0.8348     \n",
      "Epoch 4/10\n",
      "23319/23319 [==============================] - 1s - loss: 0.5889 - acc: 0.8353     \n",
      "Epoch 5/10\n",
      "23319/23319 [==============================] - 0s - loss: 0.5437 - acc: 0.8365     \n",
      "Epoch 6/10\n",
      "23319/23319 [==============================] - 1s - loss: 0.5129 - acc: 0.8368     \n",
      "Epoch 7/10\n",
      "23319/23319 [==============================] - 1s - loss: 0.4916 - acc: 0.8366     \n",
      "Epoch 8/10\n",
      "23319/23319 [==============================] - 1s - loss: 0.4769 - acc: 0.8371     \n",
      "Epoch 9/10\n",
      "23319/23319 [==============================] - 1s - loss: 0.4668 - acc: 0.8370     \n",
      "Epoch 10/10\n",
      "23319/23319 [==============================] - 1s - loss: 0.4596 - acc: 0.8374     \n",
      "22976/23319 [============================>.] - ETA: 0s\n",
      "acc: 83.75%\n",
      "One layer NN trained\n"
     ]
    }
   ],
   "source": [
    "## one layer ANN WITH PCA on Training Set(Transformed)\n",
    "\n",
    "from time import time\n",
    "from keras.models import Sequential\n",
    "from keras.layers import Dense, Activation\n",
    "\n",
    "np.random.seed(1337)\n",
    "\n",
    "start = time()\n",
    "\n",
    "model = Sequential()\n",
    "model.add(Dense(30, input_dim=80))\n",
    "model.add(Activation(\"softmax\"))\n",
    "\n",
    "model.compile(loss='sparse_categorical_crossentropy', optimizer='sgd', metrics=['accuracy'])\n",
    "\n",
    "model.fit(X_t_train, y_train, epochs=10)\n",
    "\n",
    "scores = model.evaluate(X_t_train, y_train)\n",
    "print(\"\\n%s: %.2f%%\" % (model.metrics_names[1], scores[1]*100))\n",
    "print(\"One layer NN trained\")"
   ]
  },
  {
   "cell_type": "code",
   "execution_count": 36,
   "metadata": {
    "collapsed": false,
    "scrolled": true
   },
   "outputs": [
    {
     "name": "stdout",
     "output_type": "stream",
     "text": [
      "3552/5830 [=================>............] - ETA: 0s\n",
      "\n",
      "accuracy 0.83859348199\n"
     ]
    }
   ],
   "source": [
    "## Accuracy of one layer ANN WITH PCA\n",
    "\n",
    "y_prediction = model.predict_classes(X_t_test)\n",
    "print (\"\\n\\naccuracy\", np.sum(y_prediction == y_test) / float(len(y_test)))"
   ]
  },
  {
   "cell_type": "code",
   "execution_count": 37,
   "metadata": {
    "collapsed": false
   },
   "outputs": [
    {
     "name": "stderr",
     "output_type": "stream",
     "text": [
      "C:\\Users\\Rajan\\Anaconda3\\lib\\site-packages\\ipykernel\\__main__.py:5: UserWarning: Update your `Dense` call to the Keras 2 API: `Dense(units=20)`\n"
     ]
    },
    {
     "name": "stdout",
     "output_type": "stream",
     "text": [
      "Epoch 1/10\n",
      "23319/23319 [==============================] - 1s - loss: 1.0673 - acc: 0.7219     \n",
      "Epoch 2/10\n",
      "23319/23319 [==============================] - 0s - loss: 0.4500 - acc: 0.8369     \n",
      "Epoch 3/10\n",
      "23319/23319 [==============================] - 0s - loss: 0.4296 - acc: 0.8371     \n",
      "Epoch 4/10\n",
      "23319/23319 [==============================] - 0s - loss: 0.4245 - acc: 0.8367     \n",
      "Epoch 5/10\n",
      "23319/23319 [==============================] - 0s - loss: 0.4220 - acc: 0.8373     \n",
      "Epoch 6/10\n",
      "23319/23319 [==============================] - 1s - loss: 0.4210 - acc: 0.8365     \n",
      "Epoch 7/10\n",
      "23319/23319 [==============================] - 1s - loss: 0.4198 - acc: 0.8371     \n",
      "Epoch 8/10\n",
      "23319/23319 [==============================] - 1s - loss: 0.4193 - acc: 0.8373     \n",
      "Epoch 9/10\n",
      "23319/23319 [==============================] - 1s - loss: 0.4187 - acc: 0.8370     \n",
      "Epoch 10/10\n",
      "23319/23319 [==============================] - 1s - loss: 0.4181 - acc: 0.8379     \n",
      "Two layer NN trained\n"
     ]
    }
   ],
   "source": [
    "## Two layer ANN WITH PCA\n",
    "\n",
    "model = Sequential()\n",
    "model.add(Dense(30,input_dim=80))\n",
    "model.add(Dense(output_dim=20))\n",
    "model.add(Activation(\"softmax\"))\n",
    "\n",
    "model.compile(loss='sparse_categorical_crossentropy', optimizer='sgd', metrics=['accuracy'])\n",
    "\n",
    "model.fit(X_t_train, y_train)\n",
    "\n",
    "print(\"Two layer NN trained\")\n",
    "\n"
   ]
  },
  {
   "cell_type": "code",
   "execution_count": 38,
   "metadata": {
    "collapsed": false,
    "scrolled": true
   },
   "outputs": [
    {
     "name": "stdout",
     "output_type": "stream",
     "text": [
      "3680/5830 [=================>............] - ETA: 0s \n",
      "\n",
      "accuracy 0.838250428816\n"
     ]
    }
   ],
   "source": [
    "## Accuracy of Two layer ANN WITH PCA\n",
    "\n",
    "y_prediction = model.predict_classes(X_t_test)\n",
    "print (\"\\n\\naccuracy\", np.sum(y_prediction == y_test) / float(len(y_test)))"
   ]
  },
  {
   "cell_type": "code",
   "execution_count": 39,
   "metadata": {
    "collapsed": false
   },
   "outputs": [
    {
     "name": "stderr",
     "output_type": "stream",
     "text": [
      "C:\\Users\\Rajan\\Anaconda3\\lib\\site-packages\\ipykernel\\__main__.py:5: UserWarning: Update your `Dense` call to the Keras 2 API: `Dense(units=20)`\n",
      "C:\\Users\\Rajan\\Anaconda3\\lib\\site-packages\\ipykernel\\__main__.py:6: UserWarning: Update your `Dense` call to the Keras 2 API: `Dense(units=2)`\n"
     ]
    },
    {
     "name": "stdout",
     "output_type": "stream",
     "text": [
      "Epoch 1/10\n",
      "23319/23319 [==============================] - 1s - loss: 0.4570 - acc: 0.8174     \n",
      "Epoch 2/10\n",
      "23319/23319 [==============================] - 0s - loss: 0.4211 - acc: 0.8373     \n",
      "Epoch 3/10\n",
      "23319/23319 [==============================] - 0s - loss: 0.4195 - acc: 0.8372     \n",
      "Epoch 4/10\n",
      "23319/23319 [==============================] - 0s - loss: 0.4186 - acc: 0.8376     \n",
      "Epoch 5/10\n",
      "23319/23319 [==============================] - 0s - loss: 0.4181 - acc: 0.8367     \n",
      "Epoch 6/10\n",
      "23319/23319 [==============================] - 0s - loss: 0.4181 - acc: 0.8372     \n",
      "Epoch 7/10\n",
      "23319/23319 [==============================] - 0s - loss: 0.4179 - acc: 0.8370     \n",
      "Epoch 8/10\n",
      "23319/23319 [==============================] - 0s - loss: 0.4179 - acc: 0.8368     \n",
      "Epoch 9/10\n",
      "23319/23319 [==============================] - 0s - loss: 0.4175 - acc: 0.8373     \n",
      "Epoch 10/10\n",
      "23319/23319 [==============================] - 0s - loss: 0.4180 - acc: 0.8367     \n",
      "Three layer NN trained\n"
     ]
    }
   ],
   "source": [
    "## Three layer ANN WITH PCA\n",
    "\n",
    "model = Sequential()\n",
    "model.add(Dense(30,input_dim=80))\n",
    "model.add(Dense(output_dim=20))\n",
    "model.add(Dense(output_dim=2))\n",
    "model.add(Activation(\"softmax\"))\n",
    "\n",
    "model.compile(loss='sparse_categorical_crossentropy', optimizer='sgd', metrics=['accuracy'])\n",
    "\n",
    "model.fit(X_t_train, y_train)\n",
    "\n",
    "print(\"Three layer NN trained\")\n"
   ]
  },
  {
   "cell_type": "code",
   "execution_count": 120,
   "metadata": {
    "collapsed": false
   },
   "outputs": [
    {
     "name": "stdout",
     "output_type": "stream",
     "text": [
      "Best: 0.390111 using {'optimizer': 'rmsprop', 'epochs': 10}\n",
      "0.390111 (0.318920) with: {'optimizer': 'rmsprop', 'epochs': 10}\n",
      "0.384450 (0.316544) with: {'optimizer': 'adam', 'epochs': 10}\n"
     ]
    }
   ],
   "source": [
    "## GridsearchCV for 3 layer ANN WITHOUT PCA on train set\n",
    "## for optimizers\n",
    "from keras.models import Sequential\n",
    "from keras.layers import Dense\n",
    "from keras.wrappers.scikit_learn import KerasClassifier\n",
    "from sklearn.model_selection import GridSearchCV\n",
    "import numpy\n",
    "\n",
    "# Function to create model, required for KerasClassifier\n",
    "def create_model(optimizer='rmsprop', init='glorot_uniform'):\n",
    "# create model\n",
    "    model = Sequential()\n",
    "    model.add(Dense(100, input_dim=131, kernel_initializer=init, activation='relu'))\n",
    "    model.add(Dense(8, kernel_initializer=init, activation='relu'))\n",
    "    model.add(Dense(1, kernel_initializer=init, activation='sigmoid'))\n",
    "# Compile model\n",
    "    model.compile(loss='binary_crossentropy', optimizer=optimizer, metrics=['accuracy'])\n",
    "    return model\n",
    "\n",
    "# fix random seed for reproducibility\n",
    "seed = 7\n",
    "numpy.random.seed(seed)\n",
    "# create model\n",
    "model = KerasClassifier(build_fn=create_model, verbose=0)\n",
    "# grid search epochs, batch size and optimizer\n",
    "optimizers = ['rmsprop', 'adam']\n",
    "#init = ['glorot_uniform', 'normal', 'uniform']\n",
    "epochs = [10]\n",
    "#batches = [5, 8]\n",
    "param_grid = dict(optimizer=optimizers, epochs=epochs)\n",
    "grid = GridSearchCV(estimator=model, param_grid=param_grid)\n",
    "grid_result = grid.fit(k_train, y_train)\n",
    "# summarize results\n",
    "print(\"Best: %f using %s\" % (grid_result.best_score_, grid_result.best_params_))\n",
    "means = grid_result.cv_results_['mean_test_score']\n",
    "stds = grid_result.cv_results_['std_test_score']\n",
    "params = grid_result.cv_results_['params']\n",
    "for mean, stdev, param in zip(means, stds, params):\n",
    "    print(\"%f (%f) with: %r\" % (mean, stdev, param))\n"
   ]
  },
  {
   "cell_type": "code",
   "execution_count": 122,
   "metadata": {
    "collapsed": false
   },
   "outputs": [
    {
     "name": "stdout",
     "output_type": "stream",
     "text": [
      "Best: 0.832883 using {'optimizer': 'rmsprop', 'epochs': 10}\n",
      "0.832883 (0.005856) with: {'optimizer': 'rmsprop', 'epochs': 10}\n",
      "0.831854 (0.005737) with: {'optimizer': 'adam', 'epochs': 10}\n"
     ]
    }
   ],
   "source": [
    "## GridsearchCV on 3 layer ANN WITH PCA on train set(Transformed)\n",
    "## for optimizers\n",
    "from keras.models import Sequential\n",
    "from keras.layers import Dense\n",
    "from keras.wrappers.scikit_learn import KerasClassifier\n",
    "from sklearn.model_selection import GridSearchCV\n",
    "import numpy\n",
    "\n",
    "# Function to create model, required for KerasClassifier\n",
    "def create_model(optimizer='rmsprop', init='glorot_uniform'):\n",
    "# create model\n",
    "    model = Sequential()\n",
    "    model.add(Dense(30, input_dim=80, kernel_initializer=init, activation='relu'))\n",
    "    model.add(Dense(8, kernel_initializer=init, activation='relu'))\n",
    "    model.add(Dense(1, kernel_initializer=init, activation='sigmoid'))\n",
    "# Compile model\n",
    "    model.compile(loss='binary_crossentropy', optimizer=optimizer, metrics=['accuracy'])\n",
    "    return model\n",
    "\n",
    "# fix random seed for reproducibility\n",
    "seed = 7\n",
    "numpy.random.seed(seed)\n",
    "# create model\n",
    "model = KerasClassifier(build_fn=create_model, verbose=0)\n",
    "# grid search epochs, batch size and optimizer\n",
    "optimizers = ['rmsprop', 'adam']\n",
    "#init = ['glorot_uniform', 'normal', 'uniform']\n",
    "epochs = [10]\n",
    "#batches = [5, 8]\n",
    "param_grid = dict(optimizer=optimizers, epochs=epochs)\n",
    "grid = GridSearchCV(estimator=model, param_grid=param_grid)\n",
    "grid_result = grid.fit(X_t_train, y_train)\n",
    "# summarize results\n",
    "print(\"Best: %f using %s\" % (grid_result.best_score_, grid_result.best_params_))\n",
    "means = grid_result.cv_results_['mean_test_score']\n",
    "stds = grid_result.cv_results_['std_test_score']\n",
    "params = grid_result.cv_results_['params']\n",
    "for mean, stdev, param in zip(means, stds, params):\n",
    "    print(\"%f (%f) with: %r\" % (mean, stdev, param))\n"
   ]
  },
  {
   "cell_type": "code",
   "execution_count": null,
   "metadata": {
    "collapsed": true
   },
   "outputs": [],
   "source": [
    "## Working on this part - 3 layer ANN WITH PCA on train set(Transformed)\n",
    "# optimizing batch size and epochs \n",
    "#### STILL TESTING ######\n",
    "\n",
    "# Use scikit-learn to grid search the batch size and epochs\n",
    "import numpy\n",
    "from sklearn.model_selection import GridSearchCV\n",
    "from keras.models import Sequential\n",
    "from keras.layers import Dense\n",
    "from keras.wrappers.scikit_learn import KerasClassifier\n",
    "# Function to create model, required for KerasClassifier\n",
    "def create_model(optimizer='adam'):\n",
    "    # create model\n",
    "    model = Sequential()\n",
    "    model.add(Dense(30, input_dim=80, kernel_initializer=init, activation='relu'))\n",
    "    model.add(Dense(8, kernel_initializer=init, activation='relu'))\n",
    "    model.add(Dense(1, kernel_initializer=init, activation='sigmoid'))\n",
    "    # Compile model\n",
    "    model.compile(loss='binary_crossentropy', optimizer=optimizer, metrics=['accuracy'])\n",
    "    return model\n",
    "# fix random seed for reproducibility\n",
    "seed = 7\n",
    "numpy.random.seed(seed)\n",
    "# create model\n",
    "model = KerasClassifier(build_fn=create_model, epochs=10, verbose=0)\n",
    "# define the grid search parameters\n",
    "optimizer = ['Adagrad', 'Adadelta', 'Adam', 'Adamax']\n",
    "param_grid = dict(optimizer=optimizer)\n",
    "grid = GridSearchCV(estimator=model, param_grid=param_grid, n_jobs=-1)\n",
    "grid_result = grid.fit(X_t_train, y_train)\n",
    "# summarize results\n",
    "print(\"Best: %f using %s\" % (grid_result.best_score_, grid_result.best_params_))\n",
    "means = grid_result.cv_results_['mean_test_score']\n",
    "stds = grid_result.cv_results_['std_test_score']\n",
    "params = grid_result.cv_results_['params']\n",
    "for mean, stdev, param in zip(means, stds, params):\n",
    "    print(\"%f (%f) with: %r\" % (mean, stdev, param))"
   ]
  },
  {
   "cell_type": "code",
   "execution_count": 107,
   "metadata": {
    "collapsed": false,
    "scrolled": true
   },
   "outputs": [],
   "source": [
    "##Additional methods\n",
    "\n",
    "y_train = y_train[:, np.newaxis]\n",
    "postpca_train = np.hstack((X_t_train, y_train))"
   ]
  },
  {
   "cell_type": "code",
   "execution_count": null,
   "metadata": {
    "collapsed": true
   },
   "outputs": [],
   "source": [
    "## Naive Bayes\n",
    "\n",
    "from sklearn.naive_bayes import GaussianNB\n",
    "\n",
    "clf = GaussianNB()\n",
    "clf.fit(X_train, y_train)\n",
    "#target_pred = clf.predict(features_test)"
   ]
  },
  {
   "cell_type": "code",
   "execution_count": 108,
   "metadata": {
    "collapsed": false
   },
   "outputs": [
    {
     "data": {
      "text/plain": [
       "(137186, 41)"
      ]
     },
     "execution_count": 108,
     "metadata": {},
     "output_type": "execute_result"
    }
   ],
   "source": [
    "postpca_train.shape"
   ]
  },
  {
   "cell_type": "code",
   "execution_count": 109,
   "metadata": {
    "collapsed": false
   },
   "outputs": [],
   "source": [
    "# K means Clustering\n",
    "from sklearn import cluster\n",
    "\n",
    "k_means = cluster.KMeans(n_clusters=2)\n",
    "k_fit = k_means.fit(X_train) "
   ]
  },
  {
   "cell_type": "code",
   "execution_count": 117,
   "metadata": {
    "collapsed": false
   },
   "outputs": [
    {
     "data": {
      "text/plain": [
       "KMeans(algorithm='auto', copy_x=True, init='k-means++', max_iter=300,\n",
       "    n_clusters=2, n_init=10, n_jobs=1, precompute_distances='auto',\n",
       "    random_state=None, tol=0.0001, verbose=0)"
      ]
     },
     "execution_count": 117,
     "metadata": {},
     "output_type": "execute_result"
    }
   ],
   "source": [
    "k_means"
   ]
  },
  {
   "cell_type": "code",
   "execution_count": 120,
   "metadata": {
    "collapsed": false,
    "scrolled": true
   },
   "outputs": [
    {
     "data": {
      "image/png": "[encoded data removed]",
      "text/plain": [
       "<matplotlib.figure.Figure at 0x26401dc2c50>"
      ]
     },
     "metadata": {},
     "output_type": "display_data"
    }
   ],
   "source": [
    "from scipy import cluster\n",
    "from matplotlib import pyplot\n",
    "\n",
    "initial = [cluster.vq.kmeans(postpca_train,i) for i in range(1,10)]\n",
    "pyplot.plot([var for (cent,var) in initial])\n",
    "pyplot.show()"
   ]
  },
  {
   "cell_type": "code",
   "execution_count": 122,
   "metadata": {
    "collapsed": false
   },
   "outputs": [
    {
     "ename": "TypeError",
     "evalue": "scatter() missing 1 required positional argument: 'y'",
     "output_type": "error",
     "traceback": [
      "\u001b[0;31m---------------------------------------------------------------------------\u001b[0m",
      "\u001b[0;31mTypeError\u001b[0m                                 Traceback (most recent call last)",
      "\u001b[0;32m<ipython-input-122-55889aedeb3b>\u001b[0m in \u001b[0;36m<module>\u001b[0;34m()\u001b[0m\n\u001b[1;32m      2\u001b[0m \u001b[1;31m#use vq() to get as assignment for each obs.\u001b[0m\u001b[1;33m\u001b[0m\u001b[1;33m\u001b[0m\u001b[0m\n\u001b[1;32m      3\u001b[0m \u001b[0massignment\u001b[0m\u001b[1;33m,\u001b[0m\u001b[0mcdist\u001b[0m \u001b[1;33m=\u001b[0m \u001b[0mcluster\u001b[0m\u001b[1;33m.\u001b[0m\u001b[0mvq\u001b[0m\u001b[1;33m.\u001b[0m\u001b[0mvq\u001b[0m\u001b[1;33m(\u001b[0m\u001b[0mpostpca_train\u001b[0m\u001b[1;33m,\u001b[0m\u001b[0mcent\u001b[0m\u001b[1;33m)\u001b[0m\u001b[1;33m\u001b[0m\u001b[0m\n\u001b[0;32m----> 4\u001b[0;31m \u001b[0mpyplot\u001b[0m\u001b[1;33m.\u001b[0m\u001b[0mscatter\u001b[0m\u001b[1;33m(\u001b[0m\u001b[0mpostpca_train\u001b[0m\u001b[1;33m[\u001b[0m\u001b[1;33m:\u001b[0m\u001b[1;33m,\u001b[0m\u001b[1;36m0\u001b[0m\u001b[1;33m]\u001b[0m\u001b[1;33m,\u001b[0m \u001b[0mc\u001b[0m\u001b[1;33m=\u001b[0m\u001b[0massignment\u001b[0m\u001b[1;33m)\u001b[0m\u001b[1;33m\u001b[0m\u001b[0m\n\u001b[0m\u001b[1;32m      5\u001b[0m \u001b[0mpyplot\u001b[0m\u001b[1;33m.\u001b[0m\u001b[0mshow\u001b[0m\u001b[1;33m(\u001b[0m\u001b[1;33m)\u001b[0m\u001b[1;33m\u001b[0m\u001b[0m\n",
      "\u001b[0;31mTypeError\u001b[0m: scatter() missing 1 required positional argument: 'y'"
     ]
    }
   ],
   "source": [
    "cent, var = initial[1]\n",
    "#use vq() to get as assignment for each obs.\n",
    "assignment,cdist = cluster.vq.vq(postpca_train,cent)\n",
    "pyplot.scatter(postpca_train[:,0],postpca_train[:,1], c=assignment)\n",
    "pyplot.show()"
   ]
  },
  {
   "cell_type": "code",
   "execution_count": 8,
   "metadata": {
    "collapsed": false,
    "scrolled": true
   },
   "outputs": [
    {
     "data": {
      "text/plain": [
       "GradientBoostingRegressor(alpha=0.9, criterion='friedman_mse', init=None,\n",
       "             learning_rate=0.5, loss='ls', max_depth=4, max_features=None,\n",
       "             max_leaf_nodes=None, min_impurity_split=1e-07,\n",
       "             min_samples_leaf=1, min_samples_split=2,\n",
       "             min_weight_fraction_leaf=0.0, n_estimators=200,\n",
       "             presort='auto', random_state=None, subsample=1.0, verbose=0,\n",
       "             warm_start=False)"
      ]
     },
     "execution_count": 8,
     "metadata": {},
     "output_type": "execute_result"
    }
   ],
   "source": [
    "# Gradient Boosting Regressor\n",
    "\n",
    "from sklearn.ensemble import GradientBoostingRegressor\n",
    "params = {'n_estimators': 200, 'max_depth': 4, 'min_samples_split': 2,\n",
    "          'learning_rate': 0.5, 'loss': 'ls'}\n",
    "clf = GradientBoostingRegressor(**params)\n",
    "\n",
    "clf.fit(X_train, y_train)"
   ]
  },
  {
   "cell_type": "code",
   "execution_count": 11,
   "metadata": {
    "collapsed": false
   },
   "outputs": [
    {
     "name": "stdout",
     "output_type": "stream",
     "text": [
      "MSE: 0.1263\n"
     ]
    }
   ],
   "source": [
    "from sklearn.metrics import mean_squared_error\n",
    "mse = mean_squared_error(y_test, clf.predict(X_test))\n",
    "print(\"MSE: %.4f\" % mse)"
   ]
  },
  {
   "cell_type": "code",
   "execution_count": 13,
   "metadata": {
    "collapsed": false,
    "scrolled": true
   },
   "outputs": [
    {
     "data": {
      "image/png": "[encoded data removed]",
      "text/plain": [
       "<matplotlib.figure.Figure at 0x2942345c550>"
      ]
     },
     "metadata": {},
     "output_type": "display_data"
    },
    {
     "data": {
      "image/png": "[encoded data removed]",
      "text/plain": [
       "<matplotlib.figure.Figure at 0x2942810d390>"
      ]
     },
     "metadata": {},
     "output_type": "display_data"
    }
   ],
   "source": [
    "import matplotlib.pyplot as plt\n",
    "\n",
    "# compute test set deviance\n",
    "test_score = np.zeros((params['n_estimators'],), dtype=np.float64)\n",
    "\n",
    "for i, y_pred in enumerate(clf.staged_predict(X_test)):\n",
    "    test_score[i] = clf.loss_(y_test, y_pred)\n",
    "\n",
    "plt.figure(figsize=(12, 6))\n",
    "plt.subplot(1, 2, 1)\n",
    "plt.title('Deviance')\n",
    "plt.plot(np.arange(params['n_estimators']) + 1, clf.train_score_, 'b-',\n",
    "         label='Training Set Deviance')\n",
    "plt.plot(np.arange(params['n_estimators']) + 1, test_score, 'r-',\n",
    "         label='Test Set Deviance')\n",
    "plt.legend(loc='upper right')\n",
    "plt.xlabel('Boosting Iterations')\n",
    "plt.ylabel('Deviance')\n",
    "plt.show()"
   ]
  },
  {
   "cell_type": "code",
   "execution_count": 14,
   "metadata": {
    "collapsed": false
   },
   "outputs": [
    {
     "data": {
      "image/png": "[encoded data removed]",
      "text/plain": [
       "<matplotlib.figure.Figure at 0x2942d733d30>"
      ]
     },
     "metadata": {},
     "output_type": "display_data"
    }
   ],
   "source": [
    "feature_importance = clf.feature_importances_\n",
    "# make importances relative to max importance\n",
    "feature_importance = 100.0 * (feature_importance / feature_importance.max())\n",
    "sorted_idx = np.argsort(feature_importance)\n",
    "pos = np.arange(sorted_idx.shape[0]) + .5\n",
    "plt.subplot(1, 2, 2)\n",
    "plt.barh(pos, feature_importance[sorted_idx], align='center')\n",
    "plt.yticks(pos)\n",
    "plt.xlabel('Relative Importance')\n",
    "plt.title('Variable Importance')\n",
    "plt.show()"
   ]
  },
  {
   "cell_type": "code",
   "execution_count": null,
   "metadata": {
    "collapsed": false
   },
   "outputs": [
    {
     "name": "stderr",
     "output_type": "stream",
     "text": [
      "C:\\Users\\Rajan\\Anaconda3\\lib\\site-packages\\sklearn\\cross_validation.py:44: DeprecationWarning: This module was deprecated in version 0.18 in favor of the model_selection module into which all the refactored classes and functions are moved. Also note that the interface of the new CV iterators are different from that of this module. This module will be removed in 0.20.\n",
      "  \"This module will be removed in 0.20.\", DeprecationWarning)\n",
      "C:\\Users\\Rajan\\Anaconda3\\lib\\site-packages\\sklearn\\grid_search.py:43: DeprecationWarning: This module was deprecated in version 0.18 in favor of the model_selection module into which all the refactored classes and functions are moved. This module will be removed in 0.20.\n",
      "  DeprecationWarning)\n"
     ]
    }
   ],
   "source": [
    "from sklearn.grid_search import GridSearchCV\n",
    "\n",
    "param_grid = {'learning_rate': [0.1, 0.05, 0.02, 0.01],\n",
    "              'max_depth': [4, 6],\n",
    "              'min_samples_leaf': [3, 5, 9, 17],\n",
    "              'max_features': [1.0, 0.3, 0.1] ## not possible in our example (only 1 fx)\n",
    "              }\n",
    "\n",
    "est = GradientBoostingRegressor(n_estimators=3000)\n",
    "# this may take some minutes\n",
    "gs_cv = GridSearchCV(est, param_grid, n_jobs=4).fit(X_train, y_train)\n",
    "\n",
    "# best hyperparameter setting\n",
    "gs_cv.best_params_"
   ]
  },
  {
   "cell_type": "code",
   "execution_count": 63,
   "metadata": {
    "collapsed": false
   },
   "outputs": [
    {
     "data": {
      "text/plain": [
       "KNeighborsRegressor(algorithm='auto', leaf_size=30, metric='euclidean',\n",
       "          metric_params=None, n_jobs=1, n_neighbors=1000, p=2,\n",
       "          weights='uniform')"
      ]
     },
     "execution_count": 63,
     "metadata": {},
     "output_type": "execute_result"
    }
   ],
   "source": [
    "# K Neighbors Classifier\n",
    "from sklearn.neighbors import KNeighborsClassifier,KNeighborsRegressor\n",
    "\n",
    "data_knn = KNeighborsRegressor(n_neighbors = 1000, metric='euclidean')\n",
    "data_knn"
   ]
  },
  {
   "cell_type": "code",
   "execution_count": 64,
   "metadata": {
    "collapsed": false
   },
   "outputs": [
    {
     "data": {
      "text/plain": [
       "KNeighborsRegressor(algorithm='auto', leaf_size=30, metric='euclidean',\n",
       "          metric_params=None, n_jobs=1, n_neighbors=1000, p=2,\n",
       "          weights='uniform')"
      ]
     },
     "execution_count": 64,
     "metadata": {},
     "output_type": "execute_result"
    }
   ],
   "source": [
    "data_knn.fit(X_train, y_train)\n"
   ]
  },
  {
   "cell_type": "code",
   "execution_count": 62,
   "metadata": {
    "collapsed": false
   },
   "outputs": [
    {
     "data": {
      "text/plain": [
       "115183"
      ]
     },
     "execution_count": 62,
     "metadata": {},
     "output_type": "execute_result"
    }
   ],
   "source": [
    "(y_train==0).sum()"
   ]
  },
  {
   "cell_type": "code",
   "execution_count": 113,
   "metadata": {
    "collapsed": false,
    "scrolled": false
   },
   "outputs": [
    {
     "data": {
      "text/plain": [
       "157872   -0.848\n",
       "53128     0.180\n",
       "166529    0.203\n",
       "165519    0.159\n",
       "79502    -0.818\n",
       "105426    0.181\n",
       "19639     0.153\n",
       "73191     0.145\n",
       "165423    0.185\n",
       "149389    0.176\n",
       "91104     0.203\n",
       "139519    0.147\n",
       "123356    0.135\n",
       "13026     0.124\n",
       "118575    0.165\n",
       "126291    0.163\n",
       "180479   -0.851\n",
       "175440    0.195\n",
       "107771    0.197\n",
       "177912    0.181\n",
       "28667    -0.832\n",
       "76505     0.181\n",
       "130796    0.131\n",
       "16007     0.166\n",
       "11636    -0.897\n",
       "4472      0.170\n",
       "130102    0.171\n",
       "104772   -0.819\n",
       "127245    0.154\n",
       "120947    0.173\n",
       "          ...  \n",
       "187276   -0.821\n",
       "27812     0.167\n",
       "87252    -0.798\n",
       "58578     0.181\n",
       "88585     0.156\n",
       "168621    0.174\n",
       "169329   -0.754\n",
       "150085   -0.822\n",
       "117230    0.167\n",
       "183872    0.172\n",
       "57140     0.168\n",
       "131264    0.128\n",
       "105848    0.184\n",
       "83598     0.174\n",
       "90781     0.200\n",
       "139714    0.174\n",
       "140056    0.176\n",
       "83942     0.165\n",
       "10068     0.172\n",
       "47219    -0.813\n",
       "181464    0.169\n",
       "154673    0.181\n",
       "170829    0.217\n",
       "11709    -0.875\n",
       "47856     0.179\n",
       "64523    -0.838\n",
       "37738     0.209\n",
       "93903     0.189\n",
       "136373    0.112\n",
       "181604    0.176\n",
       "Name: loan_status, dtype: float64"
      ]
     },
     "execution_count": 113,
     "metadata": {},
     "output_type": "execute_result"
    }
   ],
   "source": [
    "k=data_knn.predict(X_train)\n",
    "r=k-y_train\n",
    "r"
   ]
  },
  {
   "cell_type": "code",
   "execution_count": 111,
   "metadata": {
    "collapsed": false
   },
   "outputs": [
    {
     "data": {
      "text/plain": [
       "array([ 0.,  0.,  0., ...,  0.,  0.,  0.])"
      ]
     },
     "execution_count": 111,
     "metadata": {},
     "output_type": "execute_result"
    }
   ],
   "source": [
    "m = k\n",
    "n = k\n",
    "for x in range(n.size):\n",
    "    m[x] = 1 if n[x] > 0.5 else 0\n",
    "    \n",
    "m"
   ]
  },
  {
   "cell_type": "code",
   "execution_count": 107,
   "metadata": {
    "collapsed": false
   },
   "outputs": [
    {
     "name": "stdout",
     "output_type": "stream",
     "text": [
      "0.839611913752\n"
     ]
    }
   ],
   "source": [
    "from sklearn.metrics import accuracy_score\n",
    "print(accuracy_score(y_train, m))"
   ]
  },
  {
   "cell_type": "code",
   "execution_count": 40,
   "metadata": {
    "collapsed": false
   },
   "outputs": [
    {
     "data": {
      "text/plain": [
       "{'algorithm': 'auto',\n",
       " 'leaf_size': 30,\n",
       " 'metric': 'euclidean',\n",
       " 'metric_params': None,\n",
       " 'n_jobs': 1,\n",
       " 'n_neighbors': 10,\n",
       " 'p': 2,\n",
       " 'weights': 'uniform'}"
      ]
     },
     "execution_count": 40,
     "metadata": {},
     "output_type": "execute_result"
    }
   ],
   "source": [
    "data_knn.get_params()\n"
   ]
  },
  {
   "cell_type": "code",
   "execution_count": 41,
   "metadata": {
    "collapsed": false
   },
   "outputs": [
    {
     "name": "stdout",
     "output_type": "stream",
     "text": [
      "Training data R-squared:\n",
      "0.841179129066\n",
      "Test data R-squared:\n",
      "0.836166428551\n"
     ]
    }
   ],
   "source": [
    "rsquared_train = data_knn.score(X_train, y_train)\n",
    "rsquared_test = data_knn.score(X_test, y_test)\n",
    "print ('Training data R-squared:')\n",
    "print(rsquared_train)\n",
    "print ('Test data R-squared:')\n",
    "print(rsquared_test)"
   ]
  },
  {
   "cell_type": "code",
   "execution_count": 12,
   "metadata": {
    "collapsed": false
   },
   "outputs": [
    {
     "name": "stdout",
     "output_type": "stream",
     "text": [
      "The Confusion matrix:\n",
      " [[28648    88]\n",
      " [ 5531    30]]\n"
     ]
    }
   ],
   "source": [
    "# confusion matrix\n",
    "from sklearn.metrics import confusion_matrix\n",
    "\n",
    "knn_confusion_matrix = confusion_matrix(y_true = y_test, y_pred = data_knn.predict(X_test))\n",
    "print(\"The Confusion matrix:\\n\", knn_confusion_matrix)"
   ]
  },
  {
   "cell_type": "code",
   "execution_count": 13,
   "metadata": {
    "collapsed": false
   },
   "outputs": [
    {
     "data": {
      "image/png": "[encoded data removed]",
      "text/plain": [
       "<matplotlib.figure.Figure at 0x1c3010e1b00>"
      ]
     },
     "metadata": {},
     "output_type": "display_data"
    }
   ],
   "source": [
    "import matplotlib.pyplot as plt\n",
    "\n",
    "# visualize the confusion matrix\n",
    "# http://scikit-learn.org/stable/auto_examples/model_selection/plot_confusion_matrix.html\n",
    "plt.matshow(knn_confusion_matrix, cmap = plt.cm.Blues)\n",
    "plt.title(\"KNN Confusion Matrix\\n\")\n",
    "#plt.xticks([0,1], ['No', 'Yes'])\n",
    "#plt.yticks([0,1], ['No', 'Yes'])\n",
    "plt.ylabel('True label')\n",
    "plt.xlabel('Predicted label')\n",
    "for y in range(knn_confusion_matrix.shape[0]):\n",
    "    for x in range(knn_confusion_matrix.shape[1]):\n",
    "        plt.text(x, y, '{}'.format(knn_confusion_matrix[y, x]),\n",
    "                horizontalalignment = 'center',\n",
    "                verticalalignment = 'center',)\n",
    "plt.show()"
   ]
  },
  {
   "cell_type": "code",
   "execution_count": 14,
   "metadata": {
    "collapsed": false
   },
   "outputs": [
    {
     "name": "stdout",
     "output_type": "stream",
     "text": [
      "             precision    recall  f1-score   support\n",
      "\n",
      "          0       0.84      1.00      0.91     28736\n",
      "          1       0.25      0.01      0.01      5561\n",
      "\n",
      "avg / total       0.74      0.84      0.76     34297\n",
      "\n"
     ]
    }
   ],
   "source": [
    "#Generate the classification report\n",
    "from sklearn.metrics import classification_report\n",
    "knn_classify_report = classification_report(y_true = y_test, \n",
    "                                           y_pred = data_knn.predict(X_test))\n",
    "print(knn_classify_report)"
   ]
  },
  {
   "cell_type": "code",
   "execution_count": 57,
   "metadata": {
    "collapsed": true
   },
   "outputs": [],
   "source": [
    "pred = data_knn.predict(X_test)"
   ]
  },
  {
   "cell_type": "code",
   "execution_count": 58,
   "metadata": {
    "collapsed": false
   },
   "outputs": [
    {
     "name": "stdout",
     "output_type": "stream",
     "text": [
      "0.83785753856\n"
     ]
    }
   ],
   "source": [
    "from sklearn.metrics import accuracy_score\n",
    "print(accuracy_score(y_test, pred))"
   ]
  }
 ],
 "metadata": {
  "anaconda-cloud": {},
  "kernelspec": {
   "display_name": "Python [default]",
   "language": "python",
   "name": "python3"
  },
  "language_info": {
   "codemirror_mode": {
    "name": "ipython",
    "version": 3
   },
   "file_extension": ".py",
   "mimetype": "text/x-python",
   "name": "python",
   "nbconvert_exporter": "python",
   "pygments_lexer": "ipython3",
   "version": "3.5.2"
  }
 },
 "nbformat": 4,
 "nbformat_minor": 1
}
